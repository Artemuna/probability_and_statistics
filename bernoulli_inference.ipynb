{
 "cells": [
  {
   "cell_type": "markdown",
   "metadata": {},
   "source": [
    "## Beysian Inferernce with the Posterior Distribution\n",
    "----\n",
    "\n",
    "The posterior distribution $p(\\theta|D)$ embodies all available information about unknown parameter(s), $\\theta$. When the number of parameters to be analyzed is relatively small, displaying graphs of all (marginal) posterior distributions may be sufficient to convey useful insights on the parameters to readers.\n",
    "\n",
    "However, when we need to analyze many parameters, it is impractical and pointless to show all graphs on the parameters in an article or report. In practice, we calculate and report several \"summary statistics\" that show us key characteristics of the posterior distribution. We call them the <font color=red>posterior statistics</font>.\n",
    "\n",
    "## Point Estimation\n",
    "---\n",
    "\n",
    "On many occasions, we need to report one particular value of the parameter we regard as the most plausible guess. This type of value is called an  <font color=red>estimate</font> and a procedure to obtain an estimate is called  <font color=red>point estimation</font>.\n",
    "\n",
    "In Bayesian statistics, an estimate of the parameter is defined as a value that minimize the expected loss.\n",
    "\n",
    "\\begin{align*}\n",
    " \\delta_\\star\n",
    " &= \\arg\\min_{\\delta}\\mathrm{E}_{\\theta}[L(\\theta,\\delta)|D] \\\\\n",
    " &= \\arg\\min_{\\delta}\\int_{\\Theta}L(\\theta,\\delta)p(\\theta|D)d\\theta,\n",
    "\\end{align*}\n",
    "\n",
    "where $L$ is the <font color=red>loss function</font> and $\\Theta$ is a set of all possible values of $\\theta$ (<font color=red>parameter space</font>).\n",
    "\n",
    "| loss function  | $L(\\theta,\\delta)$        | point estimate\n",
    "|:---------------|:-------------------------:|:------------------|\n",
    "| quadratic loss | $(\\theta-\\delta)^2$       | posterior mean\n",
    "| absolute loss  | $|\\theta-\\delta|$         | posterior median\n",
    "| 0-1 loss       | $1-\\mathbf{1}_\\theta(\\delta)$ | posterior mode\n",
    "\n",
    "The following cell creates a figure of three loss functions where the ture valeu of $\\theta$ is $\\frac12$."
   ]
  },
  {
   "cell_type": "code",
   "execution_count": 1,
   "metadata": {},
   "outputs": [
    {
     "data": {
      "image/png": "[encoded data removed]",
      "text/plain": [
       "<Figure size 432x288 with 1 Axes>"
      ]
     },
     "metadata": {},
     "output_type": "display_data"
    }
   ],
   "source": [
    "%matplotlib inline\n",
    "import numpy as np\n",
    "import scipy.stats as st\n",
    "import matplotlib.pyplot as plt\n",
    "q = np.linspace(0, 1, 250)\n",
    "fig1 = plt.figure(num=1, facecolor='w')\n",
    "plt.plot(q, (q - 0.5)**2, 'b-', label='$(q-\\\\delta)^2$')\n",
    "plt.plot(q, np.abs(q - 0.5), 'r--', label='$|q-\\\\delta|$')\n",
    "plt.axhline(y=1, color='g', linestyle='-.', label='$1_{q}(\\\\delta)$')\n",
    "plt.plot([0.5, 0.5], [0, 1], 'g:', linewidth=0.5)\n",
    "plt.plot(0.5, 0, marker='o', mec='g', mfc='g')\n",
    "plt.plot(0.5, 1, marker='o', mec='g', mfc='w')\n",
    "plt.xlim(0, 1)\n",
    "plt.ylim(-0.05, 1.1)\n",
    "plt.xlabel('Point estimate $\\\\delta$')\n",
    "plt.ylabel('Loss')\n",
    "plt.legend(loc=(0.75, 0.55), frameon=False)\n",
    "# plt.savefig('ms_fig_loss_function.png', dpi=300)\n",
    "plt.show()"
   ]
  },
  {
   "cell_type": "markdown",
   "metadata": {},
   "source": [
    "## Interval Estimation\n",
    "---\n",
    "\n",
    "1. <font color=red>Credible Interval (CI)</font> <br>\n",
    "The credible interval of $\\theta$ is an interval $[a_c, b_c]$ such that\n",
    "\n",
    "  * $P(a_c \\leqq \\theta \\leqq b_c|D) = 1-c$,\n",
    "  * $P(\\theta < a_c|D) = \\frac{c}2$ and $P(\\theta > b_c|D\\} = \\frac{c}2$.\n",
    "\n",
    "2. <font color=red>Highest Posterior Density interval (HPDI)</font>\n",
    "\n",
    "   The highest posterior density interval of $\\theta$ is an interval $[a_c, b_c]$ such that\n",
    "\n",
    "  * $P(a_c \\leqq \\theta \\leqq b_c|D) = 1-c$,\n",
    "  * for any pair $(\\theta,\\theta^{\\prime})$ such that $\\theta\\in[a_c, b_c]$ and $\\theta^{\\prime}\\notin [a_c, b_c]$, $p(\\theta|D) > p(\\theta^{\\prime}|D)$ must hold.\n",
    "\n",
    "   In particular, if the distribution is unimodal (it has the unique mode), the HPDI must satisfy\n",
    "\n",
    "\\begin{align*}\n",
    " P(a_c \\leqq \\theta \\leqq b_c|D) &= 1-c, \\\\\n",
    " p(a_c|D) &= p(b_c|D).\n",
    "\\end{align*}\n",
    "\n",
    "Here we import a module called `scipy.optimize`. It includes functions for numerical optimization."
   ]
  },
  {
   "cell_type": "code",
   "execution_count": 2,
   "metadata": {},
   "outputs": [],
   "source": [
    "import scipy.optimize as opt"
   ]
  },
  {
   "cell_type": "markdown",
   "metadata": {},
   "source": [
    "`pandas` is a Python package for data analysis. `display` is used to show a Pandas dataframe in the Jupyter Notebook."
   ]
  },
  {
   "cell_type": "code",
   "execution_count": 3,
   "metadata": {},
   "outputs": [],
   "source": [
    "import pandas as pd\n",
    "from IPython.display import display"
   ]
  },
  {
   "cell_type": "markdown",
   "metadata": {},
   "source": [
    "The function `beta_hpdi` returns the HPD interval of the beta distribution. The nested function `hdpi_conditions` returns a vector such that\n",
    "\n",
    "$$\n",
    " \\begin{bmatrix}\n",
    " P(\\theta\\leqq b|D) - P(\\theta \\leqq a|D) - p \\\\\n",
    " p(a|D) - p(b|D)\n",
    " \\end{bmatrix},\n",
    "$$\n",
    "\n",
    "where $p=1-c$ and $P(\\theta\\leqq b|D) - P(\\theta \\leqq a|D) = P(a \\leqq \\theta \\leqq b|D)$.\n",
    "\n",
    "So if we find a pair $[a, b]$ that makes the above vector equal to zero, such a pair is regarded as the 100p% HPDI. This is done by the function `root` in `scipy.optimize`.\n",
    "\n",
    "A general syntax of `root` is as follows.\n",
    "```Python\n",
    "root(f, initial_value, arg=(arguments_of_f))\n",
    "```\n",
    "`root` finds a solution of `f`, i.e., a vector $x$ such that $f(x)=0$, by using a seach algorithm. `initial_value` is the starting point of the search algorithm. `arg` is a tuple containing arguments to be passed to `f`."
   ]
  },
  {
   "cell_type": "code",
   "execution_count": 4,
   "metadata": {},
   "outputs": [],
   "source": [
    "def beta_hpdi(ci0, alpha, beta, prob):\n",
    "    def hpdi_conditions(v, a, b, p):\n",
    "        eq1 = st.beta.cdf(v[1], a, b) - st.beta.cdf(v[0], a, b) - p\n",
    "        eq2 = st.beta.pdf(v[1], a, b) - st.beta.pdf(v[0], a, b)\n",
    "        return np.hstack((eq1, eq2))\n",
    "    return opt.root(hpdi_conditions, ci0, args=(alpha, beta, prob)).x"
   ]
  },
  {
   "cell_type": "markdown",
   "metadata": {},
   "source": [
    "The following cell computes the 90% confidence interval `ci` and the 90% highest posterior density interval `hpdi` of $\\text{Beta}(2,5)$ as an illustration. `interval` is a method to compute the credible interval, which is already included in `scipy.stats`."
   ]
  },
  {
   "cell_type": "code",
   "execution_count": 5,
   "metadata": {},
   "outputs": [],
   "source": [
    "a = 2.0\n",
    "b = 5.0\n",
    "prob = 0.9\n",
    "ci = st.beta.interval(prob, a, b)\n",
    "hpdi = beta_hpdi(ci, a, b, prob)"
   ]
  },
  {
   "cell_type": "markdown",
   "metadata": {},
   "source": [
    "`subplots` creates multiple panels for figures. Here it creates a $2\\times 1$ matrix of figures. `ax2`, the second object `subplots` returns, is a list of objects on attributes of figures (plots, limits of axes, labels, legends, etc.) which can be set by the following methods:\n",
    "+ `plot` creates a plot\n",
    "+ `fill_between` fills two lines\n",
    "+ `axhline` adds a horizontal line\n",
    "+ `set_xlim` sets the lower and upper limit of the horizontal axis\n",
    "+ `set_ylim` sets the lower and upper limit of the vertical axis\n",
    "+ `set_xlabel` sets the label of the horizontal axis\n",
    "+ `set_ylabel` sets the label of the vertical axis\n",
    "+ `lagend` adds a legend"
   ]
  },
  {
   "cell_type": "code",
   "execution_count": 6,
   "metadata": {},
   "outputs": [
    {
     "data": {
      "image/png": "[encoded data removed]",
      "text/plain": [
       "<Figure size 432x288 with 2 Axes>"
      ]
     },
     "metadata": {},
     "output_type": "display_data"
    }
   ],
   "source": [
    "q = np.linspace(0, 1, 250)\n",
    "qq = [np.linspace(ci[0], ci[1], 250), np.linspace(hpdi[0], hpdi[1], 250)]\n",
    "label1 = 'Beta distribution ($\\\\alpha$ = {0:<3.1f}, $\\\\beta$ = {1:<3.1f})'.format(a, b)\n",
    "label2 = ['CI', 'HPDI']\n",
    "fig2, ax2 = plt.subplots(2, 1, sharex='all', sharey='all', num=2, facecolor='w')\n",
    "ax2[1].set_xlim(0, 1)\n",
    "ax2[1].set_ylim(0, 2.8)\n",
    "ax2[1].set_xlabel('$\\\\theta$')\n",
    "for index in range(2):\n",
    "    plot_label = '{0:2.0f}%{1:s}'.format(100*prob, label2[index])\n",
    "    ax2[index].plot(q, st.beta.pdf(q, a, b), 'k-', label=label1)\n",
    "    ax2[index].fill_between(qq[index], st.beta.pdf(qq[index], a, b), color='c', label=plot_label)\n",
    "    ax2[index].axhline(y=st.beta.pdf(hpdi[0], a, b), color='k', linestyle='-', linewidth=0.5)\n",
    "    ax2[index].set_ylabel('Density')\n",
    "    ax2[index].legend(loc='upper right', frameon=False)\n",
    "plt.tight_layout()\n",
    "# plt.savefig('ms_fig_ci_hpdi.png', dpi=300)\n",
    "plt.show()"
   ]
  },
  {
   "cell_type": "markdown",
   "metadata": {},
   "source": [
    "`bernoulli_stats` computes posterior statistics (mean, median, mode, standard deviation, CI, HPDI). The following are standard methods for descriptive statistics:\n",
    "\n",
    "+ `interval` - interval\n",
    "+ `mean` - mean\n",
    "+ `median` - median\n",
    "+ `std` - standard deviation (the square root of the variance)\n",
    "\n",
    "`DataFrame` converts a matrix (NumPy 2D array) into a Pandas dataframe."
   ]
  },
  {
   "cell_type": "code",
   "execution_count": 7,
   "metadata": {},
   "outputs": [],
   "source": [
    "def bernoulli_stats(data, a0, b0, prob):\n",
    "    n = data.size\n",
    "    sum_data = data.sum()\n",
    "    a = sum_data + a0\n",
    "    b = n - sum_data + b0\n",
    "    mean_pi = st.beta.mean(a, b)\n",
    "    median_pi = st.beta.median(a, b)\n",
    "    mode_pi = (a - 1.0) / (a + b - 2.0)\n",
    "    sd_pi = st.beta.std(a, b)\n",
    "    ci_pi = st.beta.interval(prob, a, b)\n",
    "    hpdi_pi = beta_hpdi(ci_pi, a, b, prob)\n",
    "    stats = np.hstack((mean_pi, median_pi, mode_pi, sd_pi, ci_pi, hpdi_pi))\n",
    "    stats = stats.reshape((1, 8))\n",
    "    stats_string = ['mean', 'median', 'mode', 'sd', 'ci (lower)', 'ci (upper)', 'hpdi (lower)', 'hpdi (upper)']\n",
    "    param_string = ['$\\\\theta$']\n",
    "    results = pd.DataFrame(stats, index=param_string, columns=stats_string)\n",
    "    return results, a, b"
   ]
  },
  {
   "cell_type": "markdown",
   "metadata": {},
   "source": [
    "In the following cell, we generate 10 pseudo-random numbers from the Bernoulli distribution with $\\theta=\\frac12$ and compute the posterior statistics with `bernoulli_stats`."
   ]
  },
  {
   "cell_type": "code",
   "execution_count": 8,
   "metadata": {},
   "outputs": [
    {
     "data": {
      "text/html": [
       "<div>\n",
       "<style scoped>\n",
       "    .dataframe tbody tr th:only-of-type {\n",
       "        vertical-align: middle;\n",
       "    }\n",
       "\n",
       "    .dataframe tbody tr th {\n",
       "        vertical-align: top;\n",
       "    }\n",
       "\n",
       "    .dataframe thead th {\n",
       "        text-align: right;\n",
       "    }\n",
       "</style>\n",
       "<table border=\"1\" class=\"dataframe\">\n",
       "  <thead>\n",
       "    <tr style=\"text-align: right;\">\n",
       "      <th></th>\n",
       "      <th>mean</th>\n",
       "      <th>median</th>\n",
       "      <th>mode</th>\n",
       "      <th>sd</th>\n",
       "      <th>ci (lower)</th>\n",
       "      <th>ci (upper)</th>\n",
       "      <th>hpdi (lower)</th>\n",
       "      <th>hpdi (upper)</th>\n",
       "    </tr>\n",
       "  </thead>\n",
       "  <tbody>\n",
       "    <tr>\n",
       "      <th>$\\theta$</th>\n",
       "      <td>0.5</td>\n",
       "      <td>0.5</td>\n",
       "      <td>0.5</td>\n",
       "      <td>0.138675</td>\n",
       "      <td>0.233794</td>\n",
       "      <td>0.766206</td>\n",
       "      <td>0.233794</td>\n",
       "      <td>0.766206</td>\n",
       "    </tr>\n",
       "  </tbody>\n",
       "</table>\n",
       "</div>"
      ],
      "text/plain": [
       "          mean  median  mode        sd  ci (lower)  ci (upper)  hpdi (lower)  \\\n",
       "$\\theta$   0.5     0.5   0.5  0.138675    0.233794    0.766206      0.233794   \n",
       "\n",
       "          hpdi (upper)  \n",
       "$\\theta$      0.766206  "
      ]
     },
     "metadata": {},
     "output_type": "display_data"
    }
   ],
   "source": [
    "p = 0.5\n",
    "n = 10\n",
    "a0 = 1.0\n",
    "b0 = 1.0\n",
    "np.random.seed(99)\n",
    "data = st.bernoulli.rvs(p, size=n)\n",
    "prob = 0.95\n",
    "results, a, b = bernoulli_stats(data, a0, b0, prob)\n",
    "display(results)"
   ]
  },
  {
   "cell_type": "markdown",
   "metadata": {},
   "source": [
    "Note that three point estimats (mean, median, mode) are all identical. Furthermore the CI is also identical to the HPDI. This is because the posterior distribution is unimodal and symmetric around the mode."
   ]
  },
  {
   "cell_type": "markdown",
   "metadata": {},
   "source": [
    "## Bayes Factor\n",
    "---\n",
    "\n",
    "In statistics, either Bayesian or non-Bayesian, a hypothesis on the parameter(s) is a region or interval where the true value of the parameter is supposed to be located. In general, a hypothesis $H_i$ under which the true value of  $\\theta$ is located in a region $S_i\\subset\\Theta$ is expressed as\n",
    "\n",
    "\\begin{equation*}\n",
    " H_i:\\; \\theta\\in S_i, \\quad i=0,1,2,\\dots\n",
    "\\end{equation*}\n",
    "\n",
    "In Bayesian statistics, plausibility of a hypothesis is measured by the posterior probability that the true value of $\\theta$ is located in $S_i$, that is,\n",
    "\n",
    "$$\n",
    " P(H_i|D) = P(\\theta\\in S_i|D) = \\int_{S_i}p(\\theta|D)d\\theta.\n",
    "$$\n",
    "\n",
    "Competing hypotheses can be compared by the <font color=red>Bayes factor</font>, which is defined as\n",
    "\n",
    "$$\n",
    " \\text{Bayes factor} = \\mathrm{B}_{ij}\n",
    " = \\frac{P(H_i|D)}{P(H_j|D)}\\div\\frac{P(H_i)}{P(H_j)}\n",
    " = \\frac{\\text{Posterior odds ratio}}{\\text{Prior odds ratio}}.\n",
    "$$\n",
    "\n",
    "| Rank | &nbsp;&nbsp;&nbsp;&nbsp;&nbsp;&nbsp;&nbsp;&nbsp;&nbsp;&nbsp; Bayes factor $\\mathrm{B}_{ij}$ &nbsp;&nbsp;&nbsp;&nbsp;&nbsp;&nbsp;&nbsp;&nbsp;&nbsp;&nbsp;&nbsp; | Support for $H_j$ |\n",
    "|:----:|:---------------------------------------------:|:-----------------------:|\n",
    "|    0 | $0 < \\log_{10}(\\mathrm{B}_{ij})$              | Rejected                |\n",
    "|    1 | $-\\frac12 < \\log_{10}(\\mathrm{B}_{ij}) < 0$   | Barely worth mentioning |\n",
    "|    2 | $ -1 < \\log_{10}(\\mathrm{B}_{ij}) < -\\frac12$ | Substantial             |\n",
    "|    3 | $-\\frac32< \\log_{10}(\\mathrm{B}_{ij}) < -1$   | Strong                  |\n",
    "|    4 | $-2 < \\log_{10}(\\mathrm{B}_{ij}) < -\\frac32$  | Very strong             |\n",
    "|    5 | $\\log_{10}(\\mathrm{B}_{ij}) < -2$             | Decisive                |"
   ]
  },
  {
   "cell_type": "markdown",
   "metadata": {},
   "source": [
    "We want to check whether the true value of $\\theta$ is more than 50% or not, i.e.,\n",
    "\n",
    "$$\n",
    " \\begin{cases}\n",
    " H_0:\\ & \\theta \\leqq 0.5; \\\\\n",
    " H_1:\\ & \\theta > 0.5.\n",
    " \\end{cases}\n",
    "$$\n",
    "\n",
    "When $\\theta$ is the true vote share of a candidate, supporting $H_1$ implies that this candidate won the election.\n",
    "\n",
    "Suppose the true $\\theta$ is 60% and we generate 500 observation from the Beroulli distribution with $\\theta=60\\%$."
   ]
  },
  {
   "cell_type": "code",
   "execution_count": 9,
   "metadata": {},
   "outputs": [
    {
     "name": "stdout",
     "output_type": "stream",
     "text": [
      "[0.0, -3.474580539092309, -3.474580539092309]\n"
     ]
    }
   ],
   "source": [
    "p = 0.6\n",
    "n = 500\n",
    "a0 = 1.0\n",
    "b0 = 1.0\n",
    "np.random.seed(99)\n",
    "data = st.bernoulli.rvs(p, size=n)\n",
    "y = np.sum(data)\n",
    "a_star = y + a0\n",
    "b_star = n - y + b0\n",
    "Prior_odds = st.beta.cdf(0.5, a0, b0) / (1.0 - st.beta.cdf(0.5, a0, b0))\n",
    "Posterior_odds = st.beta.cdf(0.5, a_star, b_star) / (1.0 - st.beta.cdf(0.5, a_star, b_star))\n",
    "Bayes_factor = Posterior_odds / Prior_odds\n",
    "print([np.log10(Prior_odds), np.log10(Posterior_odds), np.log10(Bayes_factor)])"
   ]
  },
  {
   "cell_type": "markdown",
   "metadata": {},
   "source": [
    "In this example, the prior odds ratio is 1. So the Bayes factor is identital to the posterior odds ratio. The Bayes factor suggests that $H_1$ is decisively supported by the evidence. Thus we can safely call the election for this candidate.\n",
    "\n",
    "## Savage-Dickey Density Ratio\n",
    "---\n",
    "\n",
    "The <font color=red>Savage-Dickey density ratio</font> (<font color=red>SDDR</font>) is the Bayes factor specifically designed for \n",
    "\n",
    "$$\n",
    " \\begin{cases}\n",
    " H_0:\\ & \\theta = \\theta_0; \\\\\n",
    " H_1:\\ & \\theta \\ne \\theta_0.\n",
    " \\end{cases}\n",
    "$$\n",
    "\n",
    "The SDDR is based on the spike-and-slab prior:\n",
    "\n",
    "$$\n",
    " p(\\theta) = p_0 \\delta(\\theta-\\theta_0) + (1-p_0)f(\\theta),\\quad 0 < p_0 < 1,\n",
    "$$\n",
    "\n",
    "where the choice of $p_0$ is arbitrary. The SDDR is given by\n",
    "\n",
    "$$\n",
    " \\mathrm{B}_{01} = \\frac{f(\\theta_0|D)}{f(\\theta_0)},\n",
    "$$\n",
    "\n",
    "where $f(\\theta|D)$ is the posterior distribution when $\\theta\\ne\\theta_0$, i.e.,\n",
    "\n",
    "$$\n",
    " f(\\theta|D)= \\frac{p(D|\\theta)f(\\theta)}{\\int_{\\Theta}p(D|\\theta)f(\\theta)d\\theta}.\n",
    "$$\n",
    "\n",
    "As an illustration, we test the following hypotheses \n",
    "\n",
    "$$\n",
    " \\begin{cases}\n",
    " H_0:\\ & \\theta = 0.5; \\\\\n",
    " H_1:\\ & \\theta \\ne 0.5.\n",
    " \\end{cases}\n",
    "$$\n",
    "\n",
    "with the SDDR. We use $\\text{Beta}(1,1)$ (the uniform distribution between 0 and 1) as $f$ in the spike-and-slab prior."
   ]
  },
  {
   "cell_type": "code",
   "execution_count": 10,
   "metadata": {},
   "outputs": [
    {
     "name": "stdout",
     "output_type": "stream",
     "text": [
      "-1.261090030594163\n"
     ]
    }
   ],
   "source": [
    "SDDR = st.beta.pdf(0.5, a_star, b_star)\n",
    "print(np.log10(SDDR))"
   ]
  },
  {
   "cell_type": "markdown",
   "metadata": {},
   "source": [
    "The SDDR suggests that $H_1$ is strongly supported. So we may conclude that the true value of $\\theta$ is not equal to 50%."
   ]
  },
  {
   "cell_type": "code",
   "execution_count": null,
   "metadata": {},
   "outputs": [],
   "source": []
  }
 ],
 "metadata": {
  "kernelspec": {
   "display_name": "Python (Bayes)",
   "language": "python",
   "name": "bayes"
  },
  "language_info": {
   "codemirror_mode": {
    "name": "ipython",
    "version": 3
   },
   "file_extension": ".py",
   "mimetype": "text/x-python",
   "name": "python",
   "nbconvert_exporter": "python",
   "pygments_lexer": "ipython3",
   "version": "3.7.3"
  }
 },
 "nbformat": 4,
 "nbformat_minor": 2
}
