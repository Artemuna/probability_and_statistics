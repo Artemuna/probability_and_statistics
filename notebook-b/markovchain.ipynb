{
 "cells": [
  {
   "cell_type": "code",
   "execution_count": 1,
   "metadata": {},
   "outputs": [],
   "source": [
    "%matplotlib inline\n",
    "import numpy as np\n",
    "import matplotlib.pyplot as plt"
   ]
  },
  {
   "cell_type": "markdown",
   "metadata": {},
   "source": [
    "### Markov Chain\n",
    "---\n",
    "\n",
    "Suppose there are two possible states in a system (e.g., expansion and recession in the economy) and define\n",
    "\n",
    "$$\n",
    " p_{1,t} = \\Pr\\{\\text{State 1 in period } t \\},\\quad\n",
    " p_{2,t} = \\Pr\\{\\text{State 2 in period } t \\},\n",
    "$$\n",
    "\n",
    "and\n",
    "\n",
    "$$\n",
    " \\pi_{ij} = \\Pr\\{\\text{State } i \\text{ in period } t+1|\\text{State } j \\text{ in period } t\\}.\n",
    "$$\n",
    "\n",
    "Then the Markov chain is defined as\n",
    "\n",
    "$$\n",
    " \\begin{bmatrix} p_{1,t+1} \\\\ p_{2,t+1} \\end{bmatrix}\n",
    " =\n",
    " \\begin{bmatrix}\n",
    "  \\pi_{11} & \\pi_{12} \\\\\n",
    "  \\pi_{21} & \\pi_{22} \n",
    " \\end{bmatrix}\n",
    " \\begin{bmatrix} p_{1,t} \\\\ p_{2,t} \\end{bmatrix}.\n",
    "$$\n",
    "\n",
    "In general, the Markov chain with $k$ states is given by\n",
    "\n",
    "$$\n",
    " \\underbrace{\\begin{bmatrix} p_{1,t+1} \\\\ \\vdots \\\\ p_{k,t+1} \\end{bmatrix}}_{p_{t+1}}\n",
    " =\n",
    " \\underbrace{\\begin{bmatrix}\n",
    "  \\pi_{11} & \\cdots & \\pi_{1k} \\\\\n",
    "  \\vdots & \\ddots & \\vdots \\\\\n",
    "  \\pi_{k1} & \\cdots & \\pi_{kk} \n",
    " \\end{bmatrix}}_{\\Pi}\n",
    " \\underbrace{\\begin{bmatrix} p_{1,t} \\\\ \\vdots \\\\ p_{k,t} \\end{bmatrix}}_{p_t}.\n",
    "$$\n",
    "\n",
    "---\n",
    "\n",
    "#### Numerical Example\n",
    "\n",
    "$$\n",
    " \\Pi = \\begin{bmatrix}\n",
    "  0.9 & .0.25 \\\\\n",
    "  0.1 & 0.75 \n",
    " \\end{bmatrix},\\quad\n",
    " p_0 = \\begin{bmatrix} 0.5 \\\\ 0.5 \\end{bmatrix}.\n",
    "$$"
   ]
  },
  {
   "cell_type": "code",
   "execution_count": 2,
   "metadata": {},
   "outputs": [],
   "source": [
    "transition_matrix = np.array([[0.9, 0.25], [0.1, 0.75]])"
   ]
  },
  {
   "cell_type": "code",
   "execution_count": 3,
   "metadata": {},
   "outputs": [
    {
     "name": "stdout",
     "output_type": "stream",
     "text": [
      "[[0.9  0.25]\n",
      " [0.1  0.75]]\n"
     ]
    }
   ],
   "source": [
    "print(transition_matrix)"
   ]
  },
  {
   "cell_type": "code",
   "execution_count": 4,
   "metadata": {},
   "outputs": [],
   "source": [
    "initial_probability = np.array([0.5, 0.5])"
   ]
  },
  {
   "cell_type": "code",
   "execution_count": 5,
   "metadata": {},
   "outputs": [
    {
     "name": "stdout",
     "output_type": "stream",
     "text": [
      "[0.5 0.5]\n"
     ]
    }
   ],
   "source": [
    "print(initial_probability)"
   ]
  },
  {
   "cell_type": "markdown",
   "metadata": {},
   "source": [
    "The Markov chain evolves as\n",
    "$$\n",
    " p_{t+1} = \\Pi p_t,\\quad t = 0,1,\\dots,\n",
    "$$"
   ]
  },
  {
   "cell_type": "code",
   "execution_count": 6,
   "metadata": {},
   "outputs": [],
   "source": [
    "markov_chain = np.empty((11,2))\n",
    "state_probability = initial_probability\n",
    "markov_chain[0, :] = state_probability\n",
    "for t in range(1,11):\n",
    "    state_probability = transition_matrix @ state_probability\n",
    "    markov_chain[t, :] = state_probability"
   ]
  },
  {
   "cell_type": "code",
   "execution_count": 7,
   "metadata": {},
   "outputs": [
    {
     "name": "stdout",
     "output_type": "stream",
     "text": [
      "[[0.5        0.5       ]\n",
      " [0.575      0.425     ]\n",
      " [0.62375    0.37625   ]\n",
      " [0.6554375  0.3445625 ]\n",
      " [0.67603437 0.32396563]\n",
      " [0.68942234 0.31057766]\n",
      " [0.69812452 0.30187548]\n",
      " [0.70378094 0.29621906]\n",
      " [0.70745761 0.29254239]\n",
      " [0.70984745 0.29015255]\n",
      " [0.71140084 0.28859916]]\n"
     ]
    }
   ],
   "source": [
    "print(markov_chain)"
   ]
  },
  {
   "cell_type": "code",
   "execution_count": 8,
   "metadata": {},
   "outputs": [
    {
     "data": {
      "image/png": "[encoded data removed]",
      "text/plain": [
       "<Figure size 432x288 with 1 Axes>"
      ]
     },
     "metadata": {},
     "output_type": "display_data"
    }
   ],
   "source": [
    "fig = plt.figure(num=1, facecolor='w')\n",
    "periods = np.linspace(1, markov_chain.shape[0], markov_chain.shape[0])\n",
    "plt.plot(periods, markov_chain[:, 0], 'b-x', label='State 1')\n",
    "plt.plot(periods, markov_chain[:, 1], 'r:.', label='State 2')\n",
    "plt.xlim((periods.min(), periods.max()))\n",
    "plt.ylim((0, 1))\n",
    "plt.title('Markov Chain')\n",
    "plt.xlabel('Periods')\n",
    "plt.ylabel('Probability')\n",
    "plt.legend(loc='best', frameon=False)\n",
    "# plt.savefig('ms_fig_markovchain.eps', dpi=600)\n",
    "plt.show()"
   ]
  },
  {
   "cell_type": "markdown",
   "metadata": {},
   "source": [
    "---\n",
    "\n",
    "#### Stationary Distribution of a Markov Chain\n",
    "\n",
    "The stationary distribution $p^*$ satisfies\n",
    "\n",
    "$$\n",
    " p^* = \\Pi p^*.\n",
    "$$\n",
    "\n",
    "In case of $k=2$, we can derive an explicit formula of $p^*$:\n",
    "\n",
    "$$\n",
    " p_1^* = \\frac{1-\\pi_{22}}{2-\\pi_{11}-\\pi_{22}},\\quad\n",
    " p_2^* = \\frac{1-\\pi_{11}}{2-\\pi_{11}-\\pi_{22}}.\n",
    "$$\n"
   ]
  },
  {
   "cell_type": "code",
   "execution_count": 9,
   "metadata": {},
   "outputs": [],
   "source": [
    "stationary_distribution = np.array([1.0 - transition_matrix[1, 1], 1.0 - transition_matrix[0, 0]]) \\\n",
    "                          / (2.0 - transition_matrix[0, 0] - transition_matrix[1, 1])"
   ]
  },
  {
   "cell_type": "code",
   "execution_count": 10,
   "metadata": {},
   "outputs": [
    {
     "name": "stdout",
     "output_type": "stream",
     "text": [
      "[0.71428571 0.28571429]\n"
     ]
    }
   ],
   "source": [
    "print(stationary_distribution)"
   ]
  }
 ],
 "metadata": {
  "kernelspec": {
   "display_name": "Python (Bayes)",
   "language": "python",
   "name": "bayes"
  },
  "language_info": {
   "codemirror_mode": {
    "name": "ipython",
    "version": 3
   },
   "file_extension": ".py",
   "mimetype": "text/x-python",
   "name": "python",
   "nbconvert_exporter": "python",
   "pygments_lexer": "ipython3",
   "version": "3.8.2"
  }
 },
 "nbformat": 4,
 "nbformat_minor": 4
}
