{
 "cells": [
  {
   "cell_type": "code",
   "execution_count": 1,
   "metadata": {},
   "outputs": [],
   "source": [
    "%matplotlib inline\n",
    "import numpy as np"
   ]
  },
  {
   "cell_type": "code",
   "execution_count": 2,
   "metadata": {},
   "outputs": [],
   "source": [
    "transition_matrix = np.array([[0.9, 0.25], [0.1, 0.75]])"
   ]
  },
  {
   "cell_type": "code",
   "execution_count": 3,
   "metadata": {},
   "outputs": [
    {
     "name": "stdout",
     "output_type": "stream",
     "text": [
      "[[0.9  0.25]\n",
      " [0.1  0.75]]\n"
     ]
    }
   ],
   "source": [
    "print(transition_matrix)"
   ]
  },
  {
   "cell_type": "code",
   "execution_count": 4,
   "metadata": {},
   "outputs": [],
   "source": [
    "initial_probability = np.array([0.5, 0.5])"
   ]
  },
  {
   "cell_type": "code",
   "execution_count": 5,
   "metadata": {},
   "outputs": [
    {
     "name": "stdout",
     "output_type": "stream",
     "text": [
      "[0.5 0.5]\n"
     ]
    }
   ],
   "source": [
    "print(initial_probability)"
   ]
  },
  {
   "cell_type": "code",
   "execution_count": 6,
   "metadata": {},
   "outputs": [],
   "source": [
    "markov_chain = np.empty((11,2))\n",
    "state_probability = initial_probability\n",
    "markov_chain[0, :] = state_probability\n",
    "for t in range(1,11):\n",
    "    state_probability = transition_matrix @ state_probability\n",
    "    markov_chain[t, :] = state_probability"
   ]
  },
  {
   "cell_type": "code",
   "execution_count": 7,
   "metadata": {},
   "outputs": [
    {
     "name": "stdout",
     "output_type": "stream",
     "text": [
      "[[0.5        0.5       ]\n",
      " [0.575      0.425     ]\n",
      " [0.62375    0.37625   ]\n",
      " [0.6554375  0.3445625 ]\n",
      " [0.67603437 0.32396563]\n",
      " [0.68942234 0.31057766]\n",
      " [0.69812452 0.30187548]\n",
      " [0.70378094 0.29621906]\n",
      " [0.70745761 0.29254239]\n",
      " [0.70984745 0.29015255]\n",
      " [0.71140084 0.28859916]]\n"
     ]
    }
   ],
   "source": [
    "print(markov_chain)"
   ]
  },
  {
   "cell_type": "markdown",
   "metadata": {},
   "source": [
    "This line imports PyPlot, a collection of functions for 2D/3D graphics."
   ]
  },
  {
   "cell_type": "code",
   "execution_count": 8,
   "metadata": {},
   "outputs": [],
   "source": [
    "import matplotlib.pyplot as plt"
   ]
  },
  {
   "cell_type": "code",
   "execution_count": 9,
   "metadata": {},
   "outputs": [
    {
     "data": {
      "image/png": "[encoded data removed]",
      "text/plain": [
       "<Figure size 432x288 with 1 Axes>"
      ]
     },
     "metadata": {},
     "output_type": "display_data"
    }
   ],
   "source": [
    "fig = plt.figure(num=1, facecolor='w')\n",
    "periods = np.linspace(1, markov_chain.shape[0], markov_chain.shape[0])\n",
    "plt.plot(periods, markov_chain[:, 0], 'x-', label='State 1')\n",
    "plt.plot(periods, markov_chain[:, 1], '.:', label='State 2')\n",
    "plt.xlim((periods.min(), periods.max()))\n",
    "plt.ylim((0, 1))\n",
    "plt.title('Markov Chain')\n",
    "plt.xlabel('Periods')\n",
    "plt.ylabel('Probability')\n",
    "plt.legend()\n",
    "plt.show()"
   ]
  },
  {
   "cell_type": "code",
   "execution_count": null,
   "metadata": {},
   "outputs": [],
   "source": []
  }
 ],
 "metadata": {
  "kernelspec": {
   "display_name": "Python (Bayes)",
   "language": "python",
   "name": "bayes"
  },
  "language_info": {
   "codemirror_mode": {
    "name": "ipython",
    "version": 3
   },
   "file_extension": ".py",
   "mimetype": "text/x-python",
   "name": "python",
   "nbconvert_exporter": "python",
   "pygments_lexer": "ipython3",
   "version": "3.7.4"
  }
 },
 "nbformat": 4,
 "nbformat_minor": 4
}
