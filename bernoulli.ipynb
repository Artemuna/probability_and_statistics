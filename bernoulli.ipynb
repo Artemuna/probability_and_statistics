{
 "cells": [
  {
   "cell_type": "markdown",
   "metadata": {},
   "source": [
    "## Bernoulli Distribution\n",
    "---"
   ]
  },
  {
   "cell_type": "markdown",
   "metadata": {},
   "source": [
    "Let us define a random variable $X_i$ $(i=1,\\dots,n)$ corresponding to tossing a coin such that\n",
    "$$\n",
    "X_i = \n",
    "\t\\begin{cases}\n",
    "\t1, & \\text{Head is obtained}; \\\\\n",
    "\t0, & \\text{Tail is obtained},\n",
    "\t\\end{cases}\n",
    "$$\n",
    "and \n",
    "$$\n",
    "\t\\Pr(X_i=1) = \\theta,\\quad \\Pr(X_i=0) = 1-\\theta.\n",
    "$$\n",
    "Then $X_i$ follows the <font color=red>Bernoulli distribution</font> and its p.f. is given by\n",
    "$$\n",
    "\tp(x_i|\\theta) = \\theta^{x_i}(1-\\theta)^{1-x_i},\\quad x_i=0,1.\n",
    "$$\n",
    "Then the joint p.f. of $D=(x_1,\\dots,x_n)$ is\n",
    "\\begin{align*}\n",
    "\tp(D|\\theta) &= \\prod_{i=1}^n p(x_i|\\theta) = \\prod_{i=1}^n \\theta^{x_i}(1-\\theta)^{1-x_i} \\\\\n",
    "\t&= \\theta^{y}(1-\\theta)^{n-y},\\quad y = \\sum_{i=1}^n x_i.\n",
    "\\end{align*}\n",
    "When we regard $p(D|\\theta)$ as a function of $\\theta$, it is called the <font color=red>likelihood</font> or <font color=red>likelihood function</font>."
   ]
  },
  {
   "cell_type": "markdown",
   "metadata": {},
   "source": [
    "## Likelihood of Bernoulli Probability\n",
    "---"
   ]
  },
  {
   "cell_type": "markdown",
   "metadata": {},
   "source": [
    "The following command enables plotting within cells."
   ]
  },
  {
   "cell_type": "code",
   "execution_count": 1,
   "metadata": {},
   "outputs": [],
   "source": [
    "%matplotlib inline"
   ]
  },
  {
   "cell_type": "markdown",
   "metadata": {},
   "source": [
    "`import` literally imports a package named NumPy in Python. NumPy enable us to use vectors and matrices in Python. It also comes with numerous functions for mathematical computation. `as np` means that we use `np` as a abbreviation of `numpy`."
   ]
  },
  {
   "cell_type": "code",
   "execution_count": 2,
   "metadata": {},
   "outputs": [],
   "source": [
    "import numpy as np"
   ]
  },
  {
   "cell_type": "markdown",
   "metadata": {},
   "source": [
    "This line imports PyPlot, a collection of functions for 2D/3D graphics."
   ]
  },
  {
   "cell_type": "code",
   "execution_count": 3,
   "metadata": {},
   "outputs": [],
   "source": [
    "import matplotlib.pyplot as plt"
   ]
  },
  {
   "cell_type": "markdown",
   "metadata": {},
   "source": [
    "`q` is a 100 $\\times$ 1 vector that contains a grid, {0.0, 0.01, $\\ldots$, 1.0}. The first number in `linspace(0.1, 1.0, 101)` is the starting point, the second is the end point, and the third is the number of grid points."
   ]
  },
  {
   "cell_type": "code",
   "execution_count": 4,
   "metadata": {},
   "outputs": [],
   "source": [
    "q = np.linspace(0.0, 1.0, 101)"
   ]
  },
  {
   "cell_type": "markdown",
   "metadata": {},
   "source": [
    "`print` shows the content of q"
   ]
  },
  {
   "cell_type": "code",
   "execution_count": 5,
   "metadata": {},
   "outputs": [
    {
     "name": "stdout",
     "output_type": "stream",
     "text": [
      "[0.   0.01 0.02 0.03 0.04 0.05 0.06 0.07 0.08 0.09 0.1  0.11 0.12 0.13\n",
      " 0.14 0.15 0.16 0.17 0.18 0.19 0.2  0.21 0.22 0.23 0.24 0.25 0.26 0.27\n",
      " 0.28 0.29 0.3  0.31 0.32 0.33 0.34 0.35 0.36 0.37 0.38 0.39 0.4  0.41\n",
      " 0.42 0.43 0.44 0.45 0.46 0.47 0.48 0.49 0.5  0.51 0.52 0.53 0.54 0.55\n",
      " 0.56 0.57 0.58 0.59 0.6  0.61 0.62 0.63 0.64 0.65 0.66 0.67 0.68 0.69\n",
      " 0.7  0.71 0.72 0.73 0.74 0.75 0.76 0.77 0.78 0.79 0.8  0.81 0.82 0.83\n",
      " 0.84 0.85 0.86 0.87 0.88 0.89 0.9  0.91 0.92 0.93 0.94 0.95 0.96 0.97\n",
      " 0.98 0.99 1.  ]\n"
     ]
    }
   ],
   "source": [
    "print(q)"
   ]
  },
  {
   "cell_type": "markdown",
   "metadata": {},
   "source": [
    "`n` is the number of observations."
   ]
  },
  {
   "cell_type": "code",
   "execution_count": 6,
   "metadata": {},
   "outputs": [],
   "source": [
    "n = 5"
   ]
  },
  {
   "cell_type": "markdown",
   "metadata": {},
   "source": [
    "`y` is the number of 1's."
   ]
  },
  {
   "cell_type": "code",
   "execution_count": 7,
   "metadata": {},
   "outputs": [],
   "source": [
    "y = 4"
   ]
  },
  {
   "cell_type": "markdown",
   "metadata": {},
   "source": [
    "`l` cotains the values of likelihood corresponding to `q`."
   ]
  },
  {
   "cell_type": "code",
   "execution_count": 8,
   "metadata": {},
   "outputs": [],
   "source": [
    "l = q ** y * (1.0 - q) ** (n - y)"
   ]
  },
  {
   "cell_type": "markdown",
   "metadata": {},
   "source": [
    "The following lines create a graph of the likelihood `l`. `xlim` sets the limits of X-axis. `ylim` sets the limits of Y-axis. `xlabel` sets the label of X-axis. `$\\\\theta$` shows the Greek letter, $\\theta$. `ylabel` sets the label of Y-axis. `savefig` saves the graph in a PNG file. `show` displays the graph on screen."
   ]
  },
  {
   "cell_type": "code",
   "execution_count": 9,
   "metadata": {},
   "outputs": [
    {
     "data": {
      "image/png": "[encoded data removed]",
      "text/plain": [
       "<Figure size 432x288 with 1 Axes>"
      ]
     },
     "metadata": {
      "needs_background": "light"
     },
     "output_type": "display_data"
    }
   ],
   "source": [
    "plt.plot(q, l)\n",
    "plt.xlim(0, 1)\n",
    "plt.ylim(0, 0.085)\n",
    "plt.xlabel('$\\\\theta$')\n",
    "plt.ylabel('Likelihood')\n",
    "# plt.savefig('ms_fig_bernoulli_likelihood.png', dpi=300)\n",
    "plt.show()"
   ]
  },
  {
   "cell_type": "markdown",
   "metadata": {},
   "source": [
    "`scipy.stats` is a module in `SciPy`, a Python package for scientific computing. `scipy.stats` includes many functions for statistical analysis. `import`"
   ]
  },
  {
   "cell_type": "code",
   "execution_count": 10,
   "metadata": {},
   "outputs": [],
   "source": [
    "import scipy.stats as st"
   ]
  },
  {
   "cell_type": "markdown",
   "metadata": {},
   "source": [
    "The following cell draws a plot to illustrate two kinds of prior distribution for the probability of sucess in the Bernoulli distribution."
   ]
  },
  {
   "cell_type": "code",
   "execution_count": 11,
   "metadata": {},
   "outputs": [
    {
     "data": {
      "image/png": "[encoded data removed]",
      "text/plain": [
       "<Figure size 432x288 with 1 Axes>"
      ]
     },
     "metadata": {
      "needs_background": "light"
     },
     "output_type": "display_data"
    }
   ],
   "source": [
    "plt.plot(q, st.uniform.pdf(q), 'b-', label='Uniform distribution')\n",
    "plt.plot(q, st.beta.pdf(q, 6, 6), 'r--', label='Beta distribution')\n",
    "plt.xlim(0, 1)\n",
    "plt.ylim(0, 2.8)\n",
    "plt.legend(loc='best', frameon=False)\n",
    "plt.xlabel('$\\\\theta$')\n",
    "plt.ylabel('Probability density')\n",
    "# plt.savefig('ms_fig_beta_prior.png', dpi=300)\n",
    "plt.show()"
   ]
  },
  {
   "cell_type": "markdown",
   "metadata": {},
   "source": [
    "The uniform distribution is \n",
    "$$\n",
    " p(x|a,b) = \n",
    " \\begin{cases}\n",
    " \\frac1{b-a}, & (a\\leqq x \\leqq b); \\\\\n",
    " 0, & (\\text{otherwise}).\n",
    " \\end{cases}\n",
    "$$\n",
    "In the above figure, we set $a=0$ and $b=1$.\n",
    "\n",
    "The beta distribution is \n",
    "$$\n",
    " p(x|\\alpha,\\beta) = \\frac{x^{\\alpha-1}(1-x)^{\\beta-1}}{B(\\alpha,\\beta)},\\ 0\\leqq x\\leqq 1.\n",
    "$$\n",
    "where $B(\\alpha,\\beta)$ is the beta function:\n",
    "$$\n",
    " B(\\alpha,\\beta) = \\int_0^1x^{\\alpha-1}(1-x)^{\\beta-1}dx.\n",
    "$$"
   ]
  },
  {
   "cell_type": "markdown",
   "metadata": {},
   "source": [
    "## Derivation of the Posterior Distribution of $\\theta$\n",
    "---"
   ]
  },
  {
   "cell_type": "markdown",
   "metadata": {},
   "source": [
    "Suppose the prior distribution is $\\text{Beta}(\\alpha_0,\\beta_0)$.\n",
    "\n",
    "The posterior distribution of $\\theta$ is given by\n",
    "\\begin{align*}\n",
    " p(\\theta|D) &\\propto p(D|\\theta)p(\\theta) \\\\\n",
    " &\\propto \\theta^{y}(1-\\theta)^{n-y} \\times \\theta^{\\alpha_0-1}(1-\\theta)^{\\beta_0-1} \\\\\n",
    " &\\propto \\theta^{y+\\alpha_0-1}(1-\\theta)^{n-y+\\beta_0-1} \\\\\n",
    " &\\propto \\theta^{\\alpha_\\star-1}(1-\\theta)^{\\beta_\\star-1},\\\\\n",
    " \\alpha_\\star &=y+\\alpha_0,\\quad \\beta_\\star=n-y+\\beta_0.\n",
    "\\end{align*}\n",
    "\n",
    "This is the beta distribution $Beta(\\alpha_\\star,\\beta_\\star)$."
   ]
  },
  {
   "cell_type": "markdown",
   "metadata": {},
   "source": [
    "## A Numerical Example of the Posterior Distribution\n",
    "---"
   ]
  },
  {
   "cell_type": "markdown",
   "metadata": {},
   "source": [
    "`p` is the true vale of $\\theta$. `n` is the sample size. `a_0` and `b_0` are hyper-parameters in the prior."
   ]
  },
  {
   "cell_type": "code",
   "execution_count": 12,
   "metadata": {},
   "outputs": [],
   "source": [
    "p = 0.5\n",
    "n = 10\n",
    "a_0 = 1.0\n",
    "b_0 = 1.0"
   ]
  },
  {
   "cell_type": "markdown",
   "metadata": {},
   "source": [
    "Here we generate pseudo-random numbers from tbe Bernoulli distribution with $\\theta=\\frac12$."
   ]
  },
  {
   "cell_type": "code",
   "execution_count": 13,
   "metadata": {},
   "outputs": [
    {
     "name": "stdout",
     "output_type": "stream",
     "text": [
      "[1 0 1 0 1 1 0 0 1 0]\n"
     ]
    }
   ],
   "source": [
    "np.random.seed(99)\n",
    "data = st.bernoulli.rvs(p, size=n)\n",
    "print(data)"
   ]
  },
  {
   "cell_type": "markdown",
   "metadata": {},
   "source": [
    "Using functions in `scipy.stats`, we draw the prior and the posterior distribution."
   ]
  },
  {
   "cell_type": "code",
   "execution_count": 14,
   "metadata": {},
   "outputs": [
    {
     "data": {
      "image/png": "[encoded data removed]",
      "text/plain": [
       "<Figure size 432x288 with 1 Axes>"
      ]
     },
     "metadata": {
      "needs_background": "light"
     },
     "output_type": "display_data"
    }
   ],
   "source": [
    "y = np.sum(data)\n",
    "a_star = y + a_0\n",
    "b_star = n - y + b_0\n",
    "plt.plot(q, st.beta.pdf(q, a_star, b_star), 'c-', label='Posterior')\n",
    "plt.plot(q, st.beta.pdf(q, a_0, b_0), 'b:',label='Prior')\n",
    "plt.xlim(0, 1)\n",
    "plt.ylim(0, 2.8)\n",
    "plt.legend(loc='best', frameon=False)\n",
    "plt.xlabel('$\\\\theta$')\n",
    "plt.ylabel('Probability density')\n",
    "# plt.savefig('ms_fig_bernoulli_posterior.png', dpi=300)\n",
    "plt.show()"
   ]
  },
  {
   "cell_type": "markdown",
   "metadata": {},
   "source": [
    "Next, let us see how sequential Bayesian learning updates the shape of the posterior distribution. For this purpose, we generate 250 observations from the same Bernoulli distribution."
   ]
  },
  {
   "cell_type": "code",
   "execution_count": 15,
   "metadata": {},
   "outputs": [
    {
     "name": "stdout",
     "output_type": "stream",
     "text": [
      "[1 0 1 0 1 1 0 0 1 0 1 1 0 0 1 0 1 1 0 1 0 1 0 1 1 0 1 0 0 0 0 0 0 0 0 0 1\n",
      " 1 0 1 1 0 1 1 1 1 0 1 0 0 1 0 0 1 1 1 0 1 1 0 0 1 1 1 1 0 0 0 0 1 1 0 0 0\n",
      " 1 1 1 1 0 0 1 1 1 1 0 0 1 0 1 0 1 0 0 0 0 0 1 0 1 1 1 1 1 0 1 0 0 0 1 1 0\n",
      " 0 0 0 1 1 1 1 0 0 1 1 1 1 1 1 1 0 1 0 1 1 1 1 0 0 0 1 1 0 1 1 1 0 1 0 0 1\n",
      " 0 1 0 0 1 1 1 1 1 0 0 1 1 1 1 1 0 0 1 1 1 0 0 1 1 1 0 0 1 0 0 0 0 1 0 0 1\n",
      " 0 1 0 1 0 0 1 1 0 0 1 1 0 0 0 0 1 1 1 1 1 1 1 0 0 1 0 1 1 0 0 1 0 0 1 0 0\n",
      " 0 1 0 0 1 0 0 0 0 1 0 0 1 1 0 0 1 1 1 1 1 1 0 0 0 0 1 0]\n"
     ]
    }
   ],
   "source": [
    "np.random.seed(99)\n",
    "data = st.bernoulli.rvs(p, size=250)\n",
    "print(data)"
   ]
  },
  {
   "cell_type": "markdown",
   "metadata": {},
   "source": [
    "We use the first 10, 50 and 250 observations to construct the posterior distribution. This means that\n",
    "1. The initial 10 observations are obtained.\n",
    "2. 40 observations are additionally obtained. Thus the sample size is 50.\n",
    "3. Moreover 200 observations are obtained. The sample size is 250."
   ]
  },
  {
   "cell_type": "code",
   "execution_count": 16,
   "metadata": {},
   "outputs": [
    {
     "data": {
      "image/png": "[encoded data removed]",
      "text/plain": [
       "<Figure size 432x288 with 1 Axes>"
      ]
     },
     "metadata": {
      "needs_background": "light"
     },
     "output_type": "display_data"
    }
   ],
   "source": [
    "sample_size = np.array([10, 50, 250])\n",
    "styles = [':', '-.', '--', '-']\n",
    "colors = ['b', 'c', 'm', 'r']\n",
    "qq = np.linspace(0.0, 1.0, 250)\n",
    "index = 0\n",
    "plt.plot(qq, st.beta.pdf(qq, a_0, b_0),\n",
    "         color=colors[index], linestyle=styles[index],\n",
    "         label='Prior')\n",
    "for n_j in sample_size:\n",
    "    index += 1\n",
    "    sum_data = np.sum(data[:n_j])\n",
    "    a_j = sum_data + a_0\n",
    "    b_j = n_j - sum_data + b_0\n",
    "    plt.plot(qq, st.beta.pdf(qq, a_j, b_j),\n",
    "             color=colors[index], linestyle=styles[index],\n",
    "             label='Posterior ( n = {0:<3d} )'.format(n_j))\n",
    "plt.xlim(0, 1)\n",
    "plt.legend(loc='best', frameon=False)\n",
    "plt.xlabel('$\\\\theta$')\n",
    "plt.ylabel('Probability density')\n",
    "# plt.savefig('ms_fig_bernoulli_convergence.png', dpi=300)\n",
    "plt.show()"
   ]
  },
  {
   "cell_type": "markdown",
   "metadata": {},
   "source": [
    "As the number of obsersavions increases, the posterior distribution gets tighter around the true value of $\\theta$, $\\frac12$."
   ]
  },
  {
   "cell_type": "code",
   "execution_count": null,
   "metadata": {},
   "outputs": [],
   "source": []
  }
 ],
 "metadata": {
  "kernelspec": {
   "display_name": "Python (Bayes)",
   "language": "python",
   "name": "bayes"
  },
  "language_info": {
   "codemirror_mode": {
    "name": "ipython",
    "version": 3
   },
   "file_extension": ".py",
   "mimetype": "text/x-python",
   "name": "python",
   "nbconvert_exporter": "python",
   "pygments_lexer": "ipython3",
   "version": "3.7.3"
  }
 },
 "nbformat": 4,
 "nbformat_minor": 2
}
